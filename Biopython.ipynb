{
  "nbformat": 4,
  "nbformat_minor": 0,
  "metadata": {
    "colab": {
      "name": "Biopython",
      "provenance": [],
      "collapsed_sections": [],
      "authorship_tag": "ABX9TyMYBBLOBhrCJmliGpwsGoNP",
      "include_colab_link": true
    },
    "kernelspec": {
      "name": "python3",
      "display_name": "Python 3"
    }
  },
  "cells": [
    {
      "cell_type": "markdown",
      "metadata": {
        "id": "view-in-github",
        "colab_type": "text"
      },
      "source": [
        "<a href=\"https://colab.research.google.com/github/priyasi345/python/blob/master/Biopython.ipynb\" target=\"_parent\"><img src=\"https://colab.research.google.com/assets/colab-badge.svg\" alt=\"Open In Colab\"/></a>"
      ]
    },
    {
      "cell_type": "code",
      "metadata": {
        "id": "57JPjl9n4-xh",
        "colab_type": "code",
        "colab": {
          "base_uri": "https://localhost:8080/",
          "height": 137
        },
        "outputId": "28e9b263-1e63-4efb-bbe9-25a5fd6828aa"
      },
      "source": [
        "!pip install biopython"
      ],
      "execution_count": 4,
      "outputs": [
        {
          "output_type": "stream",
          "text": [
            "Collecting biopython\n",
            "\u001b[?25l  Downloading https://files.pythonhosted.org/packages/a8/66/134dbd5f885fc71493c61b6cf04c9ea08082da28da5ed07709b02857cbd0/biopython-1.77-cp36-cp36m-manylinux1_x86_64.whl (2.3MB)\n",
            "\u001b[K     |████████████████████████████████| 2.3MB 2.7MB/s \n",
            "\u001b[?25hRequirement already satisfied: numpy in /usr/local/lib/python3.6/dist-packages (from biopython) (1.18.4)\n",
            "Installing collected packages: biopython\n",
            "Successfully installed biopython-1.77\n"
          ],
          "name": "stdout"
        }
      ]
    },
    {
      "cell_type": "code",
      "metadata": {
        "id": "6ARSPFws6vq-",
        "colab_type": "code",
        "colab": {}
      },
      "source": [
        "from Bio.Seq import Seq"
      ],
      "execution_count": 0,
      "outputs": []
    },
    {
      "cell_type": "code",
      "metadata": {
        "id": "mdD248hw7ATE",
        "colab_type": "code",
        "colab": {}
      },
      "source": [
        "my_seq =  Seq(\"\"\"agccctccag gacaggctgc atcagaagag gccatcaagc agatcactgt ccttctgcca\n",
        "          tggccctgtg gatgcgcctc ctgcccctgc tggcgctgct ggccctctgg ggacctgacc\n",
        "          cagccgcagc ctttgtgaac caacacctgt gcggctcaca cctggtggaa gctctctacc\n",
        "          tagtgtgcgg ggaacgaggc ttcttctaca cacccaagac ccgccgggag gcagaggacc\n",
        "          tgcaggtggg gcaggtggag ctgggcgggg gccctggtgc aggcagcctg cagcccttgg\n",
        "           ccctggaggg gtccctgcag aagcgtggca ttgtggaaca atgctgtacc agcatctgct\n",
        "          ccctctacca gctggagaac tactgcaact agacgcagcc cgcaggcagc cccccacccg\n",
        "         ccgcctcctg caccgagaga gatggaataa agcccttgaa ccaacaaaaa aaaaaaaaaa\n",
        "           aaaaaaaaaa aaaaa\n",
        "\"\"\")"
      ],
      "execution_count": 0,
      "outputs": []
    },
    {
      "cell_type": "code",
      "metadata": {
        "id": "sOptbblH7FCn",
        "colab_type": "code",
        "colab": {
          "base_uri": "https://localhost:8080/",
          "height": 184
        },
        "outputId": "347736d8-bad8-4eda-b3da-5e624271a89d"
      },
      "source": [
        "print(my_seq)"
      ],
      "execution_count": 7,
      "outputs": [
        {
          "output_type": "stream",
          "text": [
            "agccctccag gacaggctgc atcagaagag gccatcaagc agatcactgt ccttctgcca\n",
            "          tggccctgtg gatgcgcctc ctgcccctgc tggcgctgct ggccctctgg ggacctgacc\n",
            "          cagccgcagc ctttgtgaac caacacctgt gcggctcaca cctggtggaa gctctctacc\n",
            "          tagtgtgcgg ggaacgaggc ttcttctaca cacccaagac ccgccgggag gcagaggacc\n",
            "          tgcaggtggg gcaggtggag ctgggcgggg gccctggtgc aggcagcctg cagcccttgg\n",
            "           ccctggaggg gtccctgcag aagcgtggca ttgtggaaca atgctgtacc agcatctgct\n",
            "          ccctctacca gctggagaac tactgcaact agacgcagcc cgcaggcagc cccccacccg\n",
            "         ccgcctcctg caccgagaga gatggaataa agcccttgaa ccaacaaaaa aaaaaaaaaa\n",
            "           aaaaaaaaaa aaaaa\n",
            "\n"
          ],
          "name": "stdout"
        }
      ]
    },
    {
      "cell_type": "code",
      "metadata": {
        "id": "PpGwVO6F7KMw",
        "colab_type": "code",
        "colab": {
          "base_uri": "https://localhost:8080/",
          "height": 50
        },
        "outputId": "9d0e1fa7-9084-47d4-f1ec-1479831da097"
      },
      "source": [
        "my_seq.complement()"
      ],
      "execution_count": 8,
      "outputs": [
        {
          "output_type": "execute_result",
          "data": {
            "text/plain": [
              "Seq('tcgggaggtc ctgtccgacg tagtcttctc cggtagttcg tctagtgaca...tt\n",
              "')"
            ]
          },
          "metadata": {
            "tags": []
          },
          "execution_count": 8
        }
      ]
    },
    {
      "cell_type": "code",
      "metadata": {
        "id": "KAyvHOul7QYw",
        "colab_type": "code",
        "colab": {
          "base_uri": "https://localhost:8080/",
          "height": 67
        },
        "outputId": "45a29d99-1bde-450d-89e3-428251c9b49b"
      },
      "source": [
        "my_seq.reverse_complement()"
      ],
      "execution_count": 9,
      "outputs": [
        {
          "output_type": "execute_result",
          "data": {
            "text/plain": [
              "Seq('\n",
              "ttttt tttttttttt           \n",
              "tttttttttt tttttgttgg ttc...gct')"
            ]
          },
          "metadata": {
            "tags": []
          },
          "execution_count": 9
        }
      ]
    },
    {
      "cell_type": "code",
      "metadata": {
        "id": "FwEuTBmD7Spc",
        "colab_type": "code",
        "colab": {}
      },
      "source": [
        "from Bio import SeqIO\n",
        "record = SeqIO.read(\"sequence.gb\", \"genbank\")\n",
        "\n",
        " "
      ],
      "execution_count": 0,
      "outputs": []
    },
    {
      "cell_type": "code",
      "metadata": {
        "id": "R4a-PhkvNAl9",
        "colab_type": "code",
        "colab": {
          "base_uri": "https://localhost:8080/",
          "height": 53
        },
        "outputId": "26e11382-555a-46f0-df9b-502a3e1f634a"
      },
      "source": [
        "record\n"
      ],
      "execution_count": 94,
      "outputs": [
        {
          "output_type": "execute_result",
          "data": {
            "text/plain": [
              "SeqRecord(seq=Seq('CTCGAGGGGCCTAGACATTGCCCTCCAGAGAGAGCACCCAACACCCTCCAGGCT...TCA', IUPACAmbiguousDNA()), id='AH002844.2', name='AH002844', description='Homo sapiens insulin (INS) gene, complete cds', dbxrefs=[])"
            ]
          },
          "metadata": {
            "tags": []
          },
          "execution_count": 94
        }
      ]
    },
    {
      "cell_type": "code",
      "metadata": {
        "id": "5nNuDq2-SBYT",
        "colab_type": "code",
        "colab": {
          "base_uri": "https://localhost:8080/",
          "height": 33
        },
        "outputId": "4edfb1c9-716c-43bf-d5e0-1121044217d4"
      },
      "source": [
        "identifiers = [seq_record.id for seq_record in SeqIO.parse(\"sequence.gb\", \"genbank\")]\n",
        "identifiers"
      ],
      "execution_count": 102,
      "outputs": [
        {
          "output_type": "execute_result",
          "data": {
            "text/plain": [
              "['AH002844.2']"
            ]
          },
          "metadata": {
            "tags": []
          },
          "execution_count": 102
        }
      ]
    },
    {
      "cell_type": "code",
      "metadata": {
        "id": "ugLGyYTXPFB0",
        "colab_type": "code",
        "colab": {
          "base_uri": "https://localhost:8080/",
          "height": 33
        },
        "outputId": "d34846c0-b9eb-4f49-903d-6d7aa943f7e8"
      },
      "source": [
        "record.description"
      ],
      "execution_count": 96,
      "outputs": [
        {
          "output_type": "execute_result",
          "data": {
            "text/plain": [
              "'Homo sapiens insulin (INS) gene, complete cds'"
            ]
          },
          "metadata": {
            "tags": []
          },
          "execution_count": 96
        }
      ]
    },
    {
      "cell_type": "code",
      "metadata": {
        "id": "v01kvLR1PIPH",
        "colab_type": "code",
        "colab": {
          "base_uri": "https://localhost:8080/",
          "height": 33
        },
        "outputId": "d207c458-ee71-419b-db98-15ae55614063"
      },
      "source": [
        "len(record.annotations)\n"
      ],
      "execution_count": 97,
      "outputs": [
        {
          "output_type": "execute_result",
          "data": {
            "text/plain": [
              "12"
            ]
          },
          "metadata": {
            "tags": []
          },
          "execution_count": 97
        }
      ]
    },
    {
      "cell_type": "code",
      "metadata": {
        "id": "-XZTYVQVPLAy",
        "colab_type": "code",
        "colab": {
          "base_uri": "https://localhost:8080/",
          "height": 33
        },
        "outputId": "b8c84cee-1460-4d0f-e916-9fcd16b76fdd"
      },
      "source": [
        "len(record.features)\n"
      ],
      "execution_count": 98,
      "outputs": [
        {
          "output_type": "execute_result",
          "data": {
            "text/plain": [
              "15"
            ]
          },
          "metadata": {
            "tags": []
          },
          "execution_count": 98
        }
      ]
    },
    {
      "cell_type": "code",
      "metadata": {
        "id": "RYR5L1a27XWq",
        "colab_type": "code",
        "colab": {}
      },
      "source": [
        "from Bio.Seq import Seq\n",
        "from Bio.Alphabet import IUPAC\n",
        "my_seq = Seq(\"AGTACACTGGT\", IUPAC.unambiguous_dna)\n"
      ],
      "execution_count": 0,
      "outputs": []
    },
    {
      "cell_type": "code",
      "metadata": {
        "id": "j4gsPT4B-zJO",
        "colab_type": "code",
        "colab": {
          "base_uri": "https://localhost:8080/",
          "height": 33
        },
        "outputId": "5a5cfdba-ddfe-40b4-8299-a398a5c6f053"
      },
      "source": [
        " my_seq"
      ],
      "execution_count": 26,
      "outputs": [
        {
          "output_type": "execute_result",
          "data": {
            "text/plain": [
              "Seq('AGTACACTGGT', IUPACUnambiguousDNA())"
            ]
          },
          "metadata": {
            "tags": []
          },
          "execution_count": 26
        }
      ]
    },
    {
      "cell_type": "code",
      "metadata": {
        "id": "8zEuuXbE-2ds",
        "colab_type": "code",
        "colab": {
          "base_uri": "https://localhost:8080/",
          "height": 33
        },
        "outputId": "a5b351e8-211f-488b-b964-af95a3bb472d"
      },
      "source": [
        " my_seq.alphabet\n"
      ],
      "execution_count": 27,
      "outputs": [
        {
          "output_type": "execute_result",
          "data": {
            "text/plain": [
              "IUPACUnambiguousDNA()"
            ]
          },
          "metadata": {
            "tags": []
          },
          "execution_count": 27
        }
      ]
    },
    {
      "cell_type": "code",
      "metadata": {
        "id": "E6AAMY57-_Rq",
        "colab_type": "code",
        "colab": {
          "base_uri": "https://localhost:8080/",
          "height": 33
        },
        "outputId": "7e6b9569-f3b6-45bb-9bee-2f13ff4c25f3"
      },
      "source": [
        "my_prot = Seq(\"AGTACACTGGT\", IUPAC.protein)\n",
        "my_prot\n"
      ],
      "execution_count": 29,
      "outputs": [
        {
          "output_type": "execute_result",
          "data": {
            "text/plain": [
              "Seq('AGTACACTGGT', IUPACProtein())"
            ]
          },
          "metadata": {
            "tags": []
          },
          "execution_count": 29
        }
      ]
    },
    {
      "cell_type": "code",
      "metadata": {
        "id": "UdBkRkzb_GON",
        "colab_type": "code",
        "colab": {
          "base_uri": "https://localhost:8080/",
          "height": 33
        },
        "outputId": "b0291fc9-a626-48ee-adb8-dab58a0c9c9f"
      },
      "source": [
        "my_prot.alphabet\n"
      ],
      "execution_count": 30,
      "outputs": [
        {
          "output_type": "execute_result",
          "data": {
            "text/plain": [
              "IUPACProtein()"
            ]
          },
          "metadata": {
            "tags": []
          },
          "execution_count": 30
        }
      ]
    },
    {
      "cell_type": "code",
      "metadata": {
        "id": "JOwofbV0_Ldk",
        "colab_type": "code",
        "colab": {}
      },
      "source": [
        "from Bio.Seq import Seq\n",
        "from Bio.Alphabet import IUPAC\n",
        "\n"
      ],
      "execution_count": 0,
      "outputs": []
    },
    {
      "cell_type": "code",
      "metadata": {
        "id": "T8XPpSnv_Q-g",
        "colab_type": "code",
        "colab": {}
      },
      "source": [
        " my_seq = Seq(\"GATCG\", IUPAC.unambiguous_dna)"
      ],
      "execution_count": 0,
      "outputs": []
    },
    {
      "cell_type": "code",
      "metadata": {
        "id": "quGrGzzH_WYN",
        "colab_type": "code",
        "colab": {
          "base_uri": "https://localhost:8080/",
          "height": 100
        },
        "outputId": "53de1f66-9427-4f98-d5a7-a60ac555612d"
      },
      "source": [
        "for index, letter in enumerate(my_seq):\n",
        " print(\"%i %s\" % (index, letter))\n"
      ],
      "execution_count": 34,
      "outputs": [
        {
          "output_type": "stream",
          "text": [
            "0 G\n",
            "1 A\n",
            "2 T\n",
            "3 C\n",
            "4 G\n"
          ],
          "name": "stdout"
        }
      ]
    },
    {
      "cell_type": "code",
      "metadata": {
        "id": "uBMuRgg8_bO2",
        "colab_type": "code",
        "colab": {
          "base_uri": "https://localhost:8080/",
          "height": 33
        },
        "outputId": "e4cb25d6-67d6-4fa5-ea35-6d000bafd74e"
      },
      "source": [
        "print(len(my_seq))"
      ],
      "execution_count": 35,
      "outputs": [
        {
          "output_type": "stream",
          "text": [
            "5\n"
          ],
          "name": "stdout"
        }
      ]
    },
    {
      "cell_type": "code",
      "metadata": {
        "id": "EO7oPvmM_83e",
        "colab_type": "code",
        "colab": {
          "base_uri": "https://localhost:8080/",
          "height": 33
        },
        "outputId": "ca18aceb-390a-4957-81a5-bf18f71aa87a"
      },
      "source": [
        "print(my_seq[0])"
      ],
      "execution_count": 36,
      "outputs": [
        {
          "output_type": "stream",
          "text": [
            "G\n"
          ],
          "name": "stdout"
        }
      ]
    },
    {
      "cell_type": "code",
      "metadata": {
        "id": "f9rKt1xAAAsL",
        "colab_type": "code",
        "colab": {
          "base_uri": "https://localhost:8080/",
          "height": 33
        },
        "outputId": "2b1e1bb8-807d-49fb-9369-5101cb418c59"
      },
      "source": [
        "print(my_seq[3]) "
      ],
      "execution_count": 37,
      "outputs": [
        {
          "output_type": "stream",
          "text": [
            "C\n"
          ],
          "name": "stdout"
        }
      ]
    },
    {
      "cell_type": "code",
      "metadata": {
        "id": "dXZKUifBADbs",
        "colab_type": "code",
        "colab": {}
      },
      "source": [
        "from Bio.Seq import Seq\n",
        "from Bio.Alphabet import IUPAC\n",
        "\n"
      ],
      "execution_count": 0,
      "outputs": []
    },
    {
      "cell_type": "code",
      "metadata": {
        "id": "Yh6Pu6ecCtu7",
        "colab_type": "code",
        "colab": {
          "base_uri": "https://localhost:8080/",
          "height": 33
        },
        "outputId": "65bd5ea2-69b7-4b90-8d8e-da535baaa753"
      },
      "source": [
        " my_seq = Seq(\"GATCGATGGGCCTATATAGGATCGAAAATCGC\", IUPAC.unambiguous_dna)\n",
        " len(my_seq)\n"
      ],
      "execution_count": 41,
      "outputs": [
        {
          "output_type": "execute_result",
          "data": {
            "text/plain": [
              "32"
            ]
          },
          "metadata": {
            "tags": []
          },
          "execution_count": 41
        }
      ]
    },
    {
      "cell_type": "code",
      "metadata": {
        "id": "HvJR8Xy6C1s-",
        "colab_type": "code",
        "colab": {
          "base_uri": "https://localhost:8080/",
          "height": 33
        },
        "outputId": "063e4f32-54a1-4577-c7d5-d4a6d27d8437"
      },
      "source": [
        "my_seq.count(\"G\")\n"
      ],
      "execution_count": 42,
      "outputs": [
        {
          "output_type": "execute_result",
          "data": {
            "text/plain": [
              "9"
            ]
          },
          "metadata": {
            "tags": []
          },
          "execution_count": 42
        }
      ]
    },
    {
      "cell_type": "code",
      "metadata": {
        "id": "L52uVUXCC7Px",
        "colab_type": "code",
        "colab": {
          "base_uri": "https://localhost:8080/",
          "height": 33
        },
        "outputId": "b791380a-c588-4253-e455-0a731da4ca5b"
      },
      "source": [
        "100 * float(my_seq.count(\"G\") + my_seq.count(\"t\")) / len(my_seq)\n"
      ],
      "execution_count": 44,
      "outputs": [
        {
          "output_type": "execute_result",
          "data": {
            "text/plain": [
              "28.125"
            ]
          },
          "metadata": {
            "tags": []
          },
          "execution_count": 44
        }
      ]
    },
    {
      "cell_type": "code",
      "metadata": {
        "id": "wsJgO1zcDFCX",
        "colab_type": "code",
        "colab": {
          "base_uri": "https://localhost:8080/",
          "height": 33
        },
        "outputId": "affd494a-9c1b-4a99-d0f6-c8ca3ce74ca9"
      },
      "source": [
        "my_seq[4:12]\n"
      ],
      "execution_count": 45,
      "outputs": [
        {
          "output_type": "execute_result",
          "data": {
            "text/plain": [
              "Seq('GATGGGCC', IUPACUnambiguousDNA())"
            ]
          },
          "metadata": {
            "tags": []
          },
          "execution_count": 45
        }
      ]
    },
    {
      "cell_type": "code",
      "metadata": {
        "id": "CMj2doCtGMEf",
        "colab_type": "code",
        "colab": {}
      },
      "source": [
        "from Bio.Alphabet import generic_alphabet\n"
      ],
      "execution_count": 0,
      "outputs": []
    },
    {
      "cell_type": "code",
      "metadata": {
        "id": "8-mKsOSjGhFb",
        "colab_type": "code",
        "colab": {}
      },
      "source": [
        " from Bio.Seq import Seq"
      ],
      "execution_count": 0,
      "outputs": []
    },
    {
      "cell_type": "code",
      "metadata": {
        "id": "ua3qOIrIGbDj",
        "colab_type": "code",
        "colab": {}
      },
      "source": [
        "protein_seq = Seq(\" gctggagaac\", IUPAC.protein)\n"
      ],
      "execution_count": 0,
      "outputs": []
    },
    {
      "cell_type": "code",
      "metadata": {
        "id": "Ab_MSpbgG2H-",
        "colab_type": "code",
        "colab": {}
      },
      "source": [
        " dna_seq = Seq(\"agatcactgt\", IUPAC.unambiguous_dna)"
      ],
      "execution_count": 0,
      "outputs": []
    },
    {
      "cell_type": "code",
      "metadata": {
        "id": "dbfWYOtpG9Gu",
        "colab_type": "code",
        "colab": {}
      },
      "source": [
        "protein_seq.alphabet = generic_alphabet"
      ],
      "execution_count": 0,
      "outputs": []
    },
    {
      "cell_type": "code",
      "metadata": {
        "id": "O61kGr2DHMFE",
        "colab_type": "code",
        "colab": {}
      },
      "source": [
        "protein_seq.alphabet = generic_alphabet"
      ],
      "execution_count": 0,
      "outputs": []
    },
    {
      "cell_type": "code",
      "metadata": {
        "id": "XOlu4MzDHN-b",
        "colab_type": "code",
        "colab": {
          "base_uri": "https://localhost:8080/",
          "height": 33
        },
        "outputId": "b6c5f623-a6c7-4d2e-8950-b68bf2d6ee4b"
      },
      "source": [
        "protein_seq + dna_seq"
      ],
      "execution_count": 57,
      "outputs": [
        {
          "output_type": "execute_result",
          "data": {
            "text/plain": [
              "Seq(' gctggagaacagatcactgt')"
            ]
          },
          "metadata": {
            "tags": []
          },
          "execution_count": 57
        }
      ]
    },
    {
      "cell_type": "code",
      "metadata": {
        "id": "sEEdCBz0HTvO",
        "colab_type": "code",
        "colab": {}
      },
      "source": [
        "from Bio.Alphabet import generic_nucleotide"
      ],
      "execution_count": 0,
      "outputs": []
    },
    {
      "cell_type": "code",
      "metadata": {
        "id": "F6dgnFLIHiZH",
        "colab_type": "code",
        "colab": {
          "base_uri": "https://localhost:8080/",
          "height": 33
        },
        "outputId": "5408f48a-08c0-4882-9425-792360cbd1b8"
      },
      "source": [
        "nuc_seq = Seq(\"GATCGATGC\", generic_nucleotide)\n",
        "nuc_seq"
      ],
      "execution_count": 62,
      "outputs": [
        {
          "output_type": "execute_result",
          "data": {
            "text/plain": [
              "Seq('GATCGATGC', NucleotideAlphabet())"
            ]
          },
          "metadata": {
            "tags": []
          },
          "execution_count": 62
        }
      ]
    },
    {
      "cell_type": "code",
      "metadata": {
        "id": "5MmvS11sHk-k",
        "colab_type": "code",
        "colab": {
          "base_uri": "https://localhost:8080/",
          "height": 33
        },
        "outputId": "2c487b3f-1692-4a9e-c8a4-331922d77dab"
      },
      "source": [
        " dna_seq = Seq(\"ACGT\", IUPAC.unambiguous_dna)\n",
        " dna_seq"
      ],
      "execution_count": 63,
      "outputs": [
        {
          "output_type": "execute_result",
          "data": {
            "text/plain": [
              "Seq('ACGT', IUPACUnambiguousDNA())"
            ]
          },
          "metadata": {
            "tags": []
          },
          "execution_count": 63
        }
      ]
    },
    {
      "cell_type": "code",
      "metadata": {
        "id": "ROjgqDbWHoz4",
        "colab_type": "code",
        "colab": {
          "base_uri": "https://localhost:8080/",
          "height": 33
        },
        "outputId": "74675f4e-b43c-45a7-9cdf-695d38ce6d22"
      },
      "source": [
        " nuc_seq + dna_seq"
      ],
      "execution_count": 64,
      "outputs": [
        {
          "output_type": "execute_result",
          "data": {
            "text/plain": [
              "Seq('GATCGATGCACGT', NucleotideAlphabet())"
            ]
          },
          "metadata": {
            "tags": []
          },
          "execution_count": 64
        }
      ]
    },
    {
      "cell_type": "code",
      "metadata": {
        "id": "HWiaEBehHvu7",
        "colab_type": "code",
        "colab": {
          "base_uri": "https://localhost:8080/",
          "height": 33
        },
        "outputId": "e0fe6c7b-f94a-46be-e87d-498707dee4f9"
      },
      "source": [
        "dna_seq.lower()\n"
      ],
      "execution_count": 65,
      "outputs": [
        {
          "output_type": "execute_result",
          "data": {
            "text/plain": [
              "Seq('acgt', DNAAlphabet())"
            ]
          },
          "metadata": {
            "tags": []
          },
          "execution_count": 65
        }
      ]
    },
    {
      "cell_type": "code",
      "metadata": {
        "id": "nWvYiM6nIC_7",
        "colab_type": "code",
        "colab": {
          "base_uri": "https://localhost:8080/",
          "height": 33
        },
        "outputId": "0ea7a8c4-2422-4f30-9ff5-6687adb1afaf"
      },
      "source": [
        "\"GTAC\" in dna_seq.upper()\n"
      ],
      "execution_count": 66,
      "outputs": [
        {
          "output_type": "execute_result",
          "data": {
            "text/plain": [
              "False"
            ]
          },
          "metadata": {
            "tags": []
          },
          "execution_count": 66
        }
      ]
    },
    {
      "cell_type": "code",
      "metadata": {
        "id": "EHDgp3CUIEsT",
        "colab_type": "code",
        "colab": {
          "base_uri": "https://localhost:8080/",
          "height": 33
        },
        "outputId": "21b400c0-4a27-4fb8-b130-99054c9d265b"
      },
      "source": [
        "messenger_rna = Seq(\"AUGGCCAUUGUAAUGGGCCGCUGAAAGGGUGCCCGAUAG\", IUPAC.unambiguous_rna)\n",
        "messenger_rna"
      ],
      "execution_count": 69,
      "outputs": [
        {
          "output_type": "execute_result",
          "data": {
            "text/plain": [
              "Seq('AUGGCCAUUGUAAUGGGCCGCUGAAAGGGUGCCCGAUAG', IUPACUnambiguousRNA())"
            ]
          },
          "metadata": {
            "tags": []
          },
          "execution_count": 69
        }
      ]
    },
    {
      "cell_type": "code",
      "metadata": {
        "id": "Op9DecR4IN8Y",
        "colab_type": "code",
        "colab": {
          "base_uri": "https://localhost:8080/",
          "height": 33
        },
        "outputId": "c8d90295-65ef-4660-f4e8-b47693d69f34"
      },
      "source": [
        "messenger_rna.back_transcribe()\n"
      ],
      "execution_count": 68,
      "outputs": [
        {
          "output_type": "execute_result",
          "data": {
            "text/plain": [
              "Seq('ATGGCCATTGTAATGGGCCGCTGAAAGGGTGCCCGATAG', IUPACUnambiguousDNA())"
            ]
          },
          "metadata": {
            "tags": []
          },
          "execution_count": 68
        }
      ]
    },
    {
      "cell_type": "code",
      "metadata": {
        "id": "2LE6roWLIbYm",
        "colab_type": "code",
        "colab": {
          "base_uri": "https://localhost:8080/",
          "height": 33
        },
        "outputId": "2f4f52e1-d5c5-47d6-8067-4fffa2191135"
      },
      "source": [
        "messenger_rna.translate()"
      ],
      "execution_count": 70,
      "outputs": [
        {
          "output_type": "execute_result",
          "data": {
            "text/plain": [
              "Seq('MAIVMGR*KGAR*', HasStopCodon(IUPACProtein(), '*'))"
            ]
          },
          "metadata": {
            "tags": []
          },
          "execution_count": 70
        }
      ]
    },
    {
      "cell_type": "code",
      "metadata": {
        "id": "nIUOX_nEIrJL",
        "colab_type": "code",
        "colab": {}
      },
      "source": [
        "from Bio.Data import CodonTable\n"
      ],
      "execution_count": 0,
      "outputs": []
    },
    {
      "cell_type": "code",
      "metadata": {
        "id": "q-H161asIykj",
        "colab_type": "code",
        "colab": {
          "base_uri": "https://localhost:8080/",
          "height": 418
        },
        "outputId": "3a74a2f6-8e9d-4b6a-aa80-5f579be1f8a2"
      },
      "source": [
        " standard_table = CodonTable.unambiguous_dna_by_name[\"Standard\"]\n",
        "\n",
        "print(standard_table)\n",
        "\n",
        "\n"
      ],
      "execution_count": 74,
      "outputs": [
        {
          "output_type": "stream",
          "text": [
            "Table 1 Standard, SGC0\n",
            "\n",
            "  |  T      |  C      |  A      |  G      |\n",
            "--+---------+---------+---------+---------+--\n",
            "T | TTT F   | TCT S   | TAT Y   | TGT C   | T\n",
            "T | TTC F   | TCC S   | TAC Y   | TGC C   | C\n",
            "T | TTA L   | TCA S   | TAA Stop| TGA Stop| A\n",
            "T | TTG L(s)| TCG S   | TAG Stop| TGG W   | G\n",
            "--+---------+---------+---------+---------+--\n",
            "C | CTT L   | CCT P   | CAT H   | CGT R   | T\n",
            "C | CTC L   | CCC P   | CAC H   | CGC R   | C\n",
            "C | CTA L   | CCA P   | CAA Q   | CGA R   | A\n",
            "C | CTG L(s)| CCG P   | CAG Q   | CGG R   | G\n",
            "--+---------+---------+---------+---------+--\n",
            "A | ATT I   | ACT T   | AAT N   | AGT S   | T\n",
            "A | ATC I   | ACC T   | AAC N   | AGC S   | C\n",
            "A | ATA I   | ACA T   | AAA K   | AGA R   | A\n",
            "A | ATG M(s)| ACG T   | AAG K   | AGG R   | G\n",
            "--+---------+---------+---------+---------+--\n",
            "G | GTT V   | GCT A   | GAT D   | GGT G   | T\n",
            "G | GTC V   | GCC A   | GAC D   | GGC G   | C\n",
            "G | GTA V   | GCA A   | GAA E   | GGA G   | A\n",
            "G | GTG V   | GCG A   | GAG E   | GGG G   | G\n",
            "--+---------+---------+---------+---------+--\n"
          ],
          "name": "stdout"
        }
      ]
    },
    {
      "cell_type": "code",
      "metadata": {
        "id": "nJTAIAxHJLXE",
        "colab_type": "code",
        "colab": {
          "base_uri": "https://localhost:8080/",
          "height": 33
        },
        "outputId": "99bc5755-f3af-4d58-a140-b054f4beeda4"
      },
      "source": [
        "standard_table.start_codons\n"
      ],
      "execution_count": 75,
      "outputs": [
        {
          "output_type": "execute_result",
          "data": {
            "text/plain": [
              "['TTG', 'CTG', 'ATG']"
            ]
          },
          "metadata": {
            "tags": []
          },
          "execution_count": 75
        }
      ]
    },
    {
      "cell_type": "code",
      "metadata": {
        "id": "iiIN7NrGJUm2",
        "colab_type": "code",
        "colab": {
          "base_uri": "https://localhost:8080/",
          "height": 33
        },
        "outputId": "bdb74b7e-9acc-4f66-be82-d67acd54e6d3"
      },
      "source": [
        "standard_table.stop_codons"
      ],
      "execution_count": 76,
      "outputs": [
        {
          "output_type": "execute_result",
          "data": {
            "text/plain": [
              "['TAA', 'TAG', 'TGA']"
            ]
          },
          "metadata": {
            "tags": []
          },
          "execution_count": 76
        }
      ]
    },
    {
      "cell_type": "code",
      "metadata": {
        "id": "7-C2U7COJYKu",
        "colab_type": "code",
        "colab": {}
      },
      "source": [
        "seq1 = Seq(\"ACGT\", IUPAC.unambiguous_dna)"
      ],
      "execution_count": 0,
      "outputs": []
    },
    {
      "cell_type": "code",
      "metadata": {
        "id": "J0dUgdXPJfCR",
        "colab_type": "code",
        "colab": {}
      },
      "source": [
        "seq2 = Seq(\"ACGT\", IUPAC.ambiguous_dna)"
      ],
      "execution_count": 0,
      "outputs": []
    },
    {
      "cell_type": "code",
      "metadata": {
        "id": "4R2dmlhHJj6s",
        "colab_type": "code",
        "colab": {
          "base_uri": "https://localhost:8080/",
          "height": 33
        },
        "outputId": "ebe5c10e-e8f7-433d-d7b7-12fd46b34de1"
      },
      "source": [
        "str(seq1) == str(seq2)\n"
      ],
      "execution_count": 79,
      "outputs": [
        {
          "output_type": "execute_result",
          "data": {
            "text/plain": [
              "True"
            ]
          },
          "metadata": {
            "tags": []
          },
          "execution_count": 79
        }
      ]
    },
    {
      "cell_type": "code",
      "metadata": {
        "id": "VjC2K0FuJyQL",
        "colab_type": "code",
        "colab": {}
      },
      "source": [
        "from Bio.Seq import MutableSeq"
      ],
      "execution_count": 0,
      "outputs": []
    },
    {
      "cell_type": "code",
      "metadata": {
        "id": "NfTsuSE8J2OC",
        "colab_type": "code",
        "colab": {
          "base_uri": "https://localhost:8080/",
          "height": 33
        },
        "outputId": "21383331-eadf-4466-a949-6c2edfe90c1b"
      },
      "source": [
        "from Bio.Alphabet import IUPAC\n",
        "mutable_seq = MutableSeq(\"GCCATTGTAATGGGCCGCTGAAAGGGTGCCCGA\", IUPAC.unambiguous_dna)\n",
        "mutable_seq"
      ],
      "execution_count": 83,
      "outputs": [
        {
          "output_type": "execute_result",
          "data": {
            "text/plain": [
              "MutableSeq('GCCATTGTAATGGGCCGCTGAAAGGGTGCCCGA', IUPACUnambiguousDNA())"
            ]
          },
          "metadata": {
            "tags": []
          },
          "execution_count": 83
        }
      ]
    },
    {
      "cell_type": "code",
      "metadata": {
        "id": "bo14lgXfKFu3",
        "colab_type": "code",
        "colab": {}
      },
      "source": [
        "mutable_seq[5] = \"C\"  #insert"
      ],
      "execution_count": 0,
      "outputs": []
    },
    {
      "cell_type": "code",
      "metadata": {
        "id": "ITxWk6sHKHXj",
        "colab_type": "code",
        "colab": {}
      },
      "source": [
        "mutable_seq.remove(\"T\")\n"
      ],
      "execution_count": 0,
      "outputs": []
    },
    {
      "cell_type": "code",
      "metadata": {
        "id": "FjnZjOM4KO7L",
        "colab_type": "code",
        "colab": {
          "base_uri": "https://localhost:8080/",
          "height": 33
        },
        "outputId": "a0e55794-a953-44fd-81f5-484f72cb1a2b"
      },
      "source": [
        "mutable_seq"
      ],
      "execution_count": 86,
      "outputs": [
        {
          "output_type": "execute_result",
          "data": {
            "text/plain": [
              "MutableSeq('GCCACGTAATGGGCCGCTGAAAGGGTGCCCGA', IUPACUnambiguousDNA())"
            ]
          },
          "metadata": {
            "tags": []
          },
          "execution_count": 86
        }
      ]
    },
    {
      "cell_type": "code",
      "metadata": {
        "id": "_LsBOwvYKbFx",
        "colab_type": "code",
        "colab": {
          "base_uri": "https://localhost:8080/",
          "height": 33
        },
        "outputId": "13224b92-9489-439d-cc52-082019961cbb"
      },
      "source": [
        "mutable_seq.reverse()\n",
        "mutable_seq"
      ],
      "execution_count": 88,
      "outputs": [
        {
          "output_type": "execute_result",
          "data": {
            "text/plain": [
              "MutableSeq('GCCACGTAATGGGCCGCTGAAAGGGTGCCCGA', IUPACUnambiguousDNA())"
            ]
          },
          "metadata": {
            "tags": []
          },
          "execution_count": 88
        }
      ]
    }
  ]
}